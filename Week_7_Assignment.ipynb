{
  "nbformat": 4,
  "nbformat_minor": 0,
  "metadata": {
    "colab": {
      "name": "Week 7 Assignment",
      "provenance": [],
      "authorship_tag": "ABX9TyPYCQNWAI3WnYgFOxsvHfFc",
      "include_colab_link": true
    },
    "kernelspec": {
      "name": "python3",
      "display_name": "Python 3"
    }
  },
  "cells": [
    {
      "cell_type": "markdown",
      "metadata": {
        "id": "view-in-github",
        "colab_type": "text"
      },
      "source": [
        "<a href=\"https://colab.research.google.com/github/sujitsivadanam/Intro-to-Programming-in-Python/blob/master/Week_7_Assignment.ipynb\" target=\"_parent\"><img src=\"https://colab.research.google.com/assets/colab-badge.svg\" alt=\"Open In Colab\"/></a>"
      ]
    },
    {
      "cell_type": "code",
      "metadata": {
        "id": "i_QHaIKPDLAB"
      },
      "source": [
        "#0\n",
        "greeting = 'Hello World!'\n",
        "\n",
        "print(greeting.upper())\n",
        "print(greeting.lower())"
      ],
      "execution_count": null,
      "outputs": []
    },
    {
      "cell_type": "code",
      "metadata": {
        "id": "hqSVYuSFDmJd"
      },
      "source": [
        "#1\n",
        "\n",
        "def hasVowels(word):\n",
        "  counter = 0\n",
        "  vowels = ['a', 'e', 'i', 'o', 'u']\n",
        "  for i in range(5):\n",
        "    if vowels[i] in word.lower():\n",
        "      counter += 1\n",
        "  if 'y' in word.lower() and vowels[i] not in word.lower():\n",
        "    counter += 1\n",
        "  \n",
        "  if counter >= 1:\n",
        "    print(word, 'has at least one vowel.')\n",
        "  else:\n",
        "    print(word, 'does not have any vowels.')\n",
        "\n",
        "entry = input('Enter a word: ')\n",
        "\n",
        "hasVowels(entry)"
      ],
      "execution_count": null,
      "outputs": []
    },
    {
      "cell_type": "code",
      "metadata": {
        "id": "YhRDzDWDUN07"
      },
      "source": [
        "#2\n",
        "def hasVowels(word):\n",
        "  global counter\n",
        "  counter = 0\n",
        "  vowels = ['a', 'e', 'i', 'o', 'u']\n",
        "  for i in range(5):\n",
        "    if vowels[i] in word.lower():\n",
        "      counter += 1\n",
        "  if 'y' in word.lower() and vowels[i] not in word.lower():\n",
        "    counter += 1\n",
        "\n",
        "while True:\n",
        "  entry = input('Enter a word: ')\n",
        "  hasVowels(entry)\n",
        "  if counter >= 1:\n",
        "    break\n",
        "  print('Your entry has no vowels. Please try again.')\n"
      ],
      "execution_count": null,
      "outputs": []
    },
    {
      "cell_type": "code",
      "metadata": {
        "id": "alYp1EEmb2Ja"
      },
      "source": [
        "#3\n",
        "def countVowels(word):\n",
        "  counter = 0\n",
        "  vowels = ['a', 'e', 'i', 'o', 'u']\n",
        "  for i in range(5):\n",
        "    if vowels[i] in word.lower():\n",
        "      counter += 1\n",
        "  if 'y' in word.lower() and vowels[i] not in word.lower():\n",
        "    counter += 1\n",
        "  \n",
        "  if counter == 1:\n",
        "    print(word, 'has 1 vowel.')\n",
        "  else:\n",
        "    print(word, 'has', counter, 'vowels.')\n",
        "\n",
        "countVowels('ii')"
      ],
      "execution_count": null,
      "outputs": []
    },
    {
      "cell_type": "code",
      "metadata": {
        "id": "EU7h5lDPd1UP"
      },
      "source": [
        "#4\n",
        "wordList = []\n",
        "\n",
        "while True:\n",
        "  entry = input('Enter a word: ')\n",
        "  if entry.lower() == 'stop':\n",
        "    break\n",
        "  wordList.append(entry)\n",
        "\n",
        "wordList"
      ],
      "execution_count": null,
      "outputs": []
    },
    {
      "cell_type": "code",
      "metadata": {
        "id": "zt4w1w6ofA_U"
      },
      "source": [
        "#5\n",
        "vowels = ['a', 'e', 'i', 'o', 'u']\n",
        "wordList = []\n",
        "counterList = []\n",
        "\n",
        "def countVowels(word):\n",
        "  counter = 0\n",
        "  vowels = ['a', 'e', 'i', 'o', 'u']\n",
        "  for i in range(5):\n",
        "    if vowels[i] in word.lower():\n",
        "      counter += 1\n",
        "  if 'y' in word.lower() and vowels[i] not in word.lower():\n",
        "    counter += 1\n",
        "  counterList.append(counter)\n",
        "\n",
        "while True:\n",
        "  entry = input('Enter a word: ')\n",
        "  if entry.lower() == 'stop':\n",
        "    break\n",
        "  wordList.append(entry)\n",
        "\n",
        "for i in range(len(wordList)):\n",
        "  countVowels(wordList[i])\n",
        "\n",
        "total = sum(counterList)\n",
        "\n",
        "print('\\nThe list has a total of', total, 'vowels.')"
      ],
      "execution_count": null,
      "outputs": []
    }
  ]
}