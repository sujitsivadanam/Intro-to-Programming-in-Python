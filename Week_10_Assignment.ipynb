{
  "nbformat": 4,
  "nbformat_minor": 0,
  "metadata": {
    "colab": {
      "name": "Week 10 Assignment",
      "provenance": [],
      "collapsed_sections": [],
      "authorship_tag": "ABX9TyNwsb4ea0jg/iSxdnDrSXSp",
      "include_colab_link": true
    },
    "kernelspec": {
      "name": "python3",
      "display_name": "Python 3"
    }
  },
  "cells": [
    {
      "cell_type": "markdown",
      "metadata": {
        "id": "view-in-github",
        "colab_type": "text"
      },
      "source": [
        "<a href=\"https://colab.research.google.com/github/sujitsivadanam/Intro-to-Programming-in-Python/blob/master/Week_10_Assignment.ipynb\" target=\"_parent\"><img src=\"https://colab.research.google.com/assets/colab-badge.svg\" alt=\"Open In Colab\"/></a>"
      ]
    },
    {
      "cell_type": "code",
      "metadata": {
        "id": "mWItLPYv49ic"
      },
      "source": [
        "#1\n",
        "import urllib.request\n",
        "\n",
        "def count_lines(filename):\n",
        "  my_filename = urllib.request.urlopen(filename)\n",
        "  my_filenameList = my_filename.readlines()\n",
        "  lineCount = len(my_filenameList)\n",
        "  return lineCount\n",
        "  \n",
        "\n",
        "\n",
        "file_name1 = \"https://raw.githubusercontent.com/mlepinski/Python-Worksheets/master/Sonnets.txt\"\n",
        "answer1 = count_lines(file_name1)\n",
        "\n",
        "file_name2 = file_name = \"https://raw.githubusercontent.com/mlepinski/Python-Worksheets/master/coolWords.txt\"\n",
        "answer2 = count_lines(file_name2)\n",
        "\n",
        "print(\"First file number of lines:\" , answer1)\n",
        "print(\"Second file number of lines:\" , answer2)"
      ],
      "execution_count": null,
      "outputs": []
    },
    {
      "cell_type": "code",
      "metadata": {
        "id": "6EAQv2jss0z5"
      },
      "source": [
        "#2\n",
        "import urllib.request\n",
        "\n",
        "def lines_with_word(filename, word):\n",
        "  wordCount = 0\n",
        "  my_file = urllib.request.urlopen(filename)\n",
        "  for i in my_file:\n",
        "    i = i.decode('utf-8')\n",
        "    if word in i:\n",
        "      wordCount += 1\n",
        "  return wordCount\n",
        "\n",
        "filename1 = \"https://raw.githubusercontent.com/mlepinski/Python-Worksheets/master/Sonnets.txt\"\n",
        "answer1 = lines_with_word(filename1, 'war')\n",
        "answer2 = lines_with_word(filename1, 'monument')\n",
        "\n",
        "print('\\\"War\\\" appears in', answer1, 'lines.')\n",
        "print('\\\"Monument\\\" appears in', answer2, 'lines.')"
      ],
      "execution_count": null,
      "outputs": []
    },
    {
      "cell_type": "code",
      "metadata": {
        "id": "6X-mjqzCwkwx"
      },
      "source": [
        "#3\n",
        "import urllib.request\n",
        "\n",
        "def lines_with_word(filename, word):\n",
        "  wordCount = 0\n",
        "  my_file = urllib.request.urlopen(filename)\n",
        "  for i in my_file:\n",
        "    i = i.decode('utf-8')\n",
        "    i = i.lower()\n",
        "    if word in i:\n",
        "      wordCount += 1\n",
        "  return wordCount\n",
        "\n",
        "filename1 = \"https://raw.githubusercontent.com/mlepinski/Python-Worksheets/master/Sonnets.txt\"\n",
        "answer1 = lines_with_word(filename1, 'war')\n",
        "answer2 = lines_with_word(filename1, 'monument')\n",
        "\n",
        "print('\\\"war\\\" appears in', answer1, 'lines.')\n",
        "print('\\\"Monument\\\" appears in', answer2, 'lines.')"
      ],
      "execution_count": null,
      "outputs": []
    },
    {
      "cell_type": "code",
      "metadata": {
        "id": "j4u6SNIryh7Z",
        "outputId": "f0b078a4-a9d0-4683-bea1-a515500fb963",
        "colab": {
          "base_uri": "https://localhost:8080/"
        }
      },
      "source": [
        "#4\n",
        "import urllib.request\n",
        "\n",
        "def word_count(filename, word):\n",
        "  wordCount = 0\n",
        "  my_file = urllib.request.urlopen(filename)\n",
        "  long_string = my_file.read()\n",
        "  long_string = long_string.decode('utf-8')\n",
        "\n",
        "  no_line_breaks = long_string.replace('\\n', ' ')\n",
        "  wordList = no_line_breaks.split()\n",
        "  \n",
        "  for i in wordList:\n",
        "    if i.lower() == word:\n",
        "      wordCount += 1\n",
        "  return wordCount\n",
        "\n",
        "filename1 = \"https://raw.githubusercontent.com/mlepinski/Python-Worksheets/master/Sonnets.txt\"\n",
        "answer1 = word_count(filename1, 'memory')\n",
        "answer2 = word_count(filename1, 'vial')\n",
        "\n",
        "print('\\\"Memory\\\" appears in', answer1, 'times.')\n",
        "print('\\\"Vial\\\" appears in', answer2, 'times.')"
      ],
      "execution_count": 26,
      "outputs": [
        {
          "output_type": "stream",
          "text": [
            "\"Memory\" appears in 3 times.\n",
            "\"Vial\" appears in 0 times.\n"
          ],
          "name": "stdout"
        }
      ]
    },
    {
      "cell_type": "code",
      "metadata": {
        "id": "8GsvBsEJ2QtQ"
      },
      "source": [
        "#5\n",
        "import urllib.request\n",
        "\n",
        "def word_count(filename, word):\n",
        "  wordCount = 0\n",
        "  my_file = urllib.request.urlopen(filename)\n",
        "  long_string = my_file.read()\n",
        "  long_string = long_string.decode('utf-8')\n",
        "\n",
        "  no_line_breaks = long_string.replace('\\n', ' ')\n",
        "  \n",
        "  no_line_breaks1 = no_line_breaks.replace(',', ' ')\n",
        "  no_line_breaks2 = no_line_breaks1.replace('.', ' ')\n",
        "  no_line_breaks3 = no_line_breaks2.replace(':', ' ')\n",
        "  no_line_breaks4 = no_line_breaks3.replace(';', ' ')\n",
        "  no_line_breaks5 = no_line_breaks4.replace('?', ' ')\n",
        "  no_line_breaks6 = no_line_breaks5.replace('!', ' ')\n",
        "  no_line_breaks7 = no_line_breaks6.replace(\"'\", ' ')\n",
        "  no_line_breaks8 = no_line_breaks7.replace('\"', ' ')\n",
        "  \n",
        "  wordList = no_line_breaks8.split()\n",
        "  \n",
        "  for i in wordList:\n",
        "    if i.lower() == word:\n",
        "      wordCount += 1\n",
        "  return wordCount\n",
        "\n",
        "filename1 = \"https://raw.githubusercontent.com/mlepinski/Python-Worksheets/master/Sonnets.txt\"\n",
        "answer1 = word_count(filename1, 'memory')\n",
        "answer2 = word_count(filename1, 'vial')\n",
        "\n",
        "print('\\\"Memory\\\" appears in', answer1, 'times.')\n",
        "print('\\\"Vial\\\" appears in', answer2, 'times.')"
      ],
      "execution_count": null,
      "outputs": []
    },
    {
      "cell_type": "code",
      "metadata": {
        "id": "b44NkrP46wJc"
      },
      "source": [
        "#6\n",
        "import urllib.request\n",
        "\n",
        "def word_frequency(filename, word):\n",
        "  wordCount = 0\n",
        "  my_file = urllib.request.urlopen(filename)\n",
        "  long_string = my_file.read()\n",
        "  long_string = long_string.decode('utf-8')\n",
        "\n",
        "  no_line_breaks = long_string.replace('\\n', ' ')\n",
        "  \n",
        "  no_line_breaks1 = no_line_breaks.replace(',', ' ')\n",
        "  no_line_breaks2 = no_line_breaks1.replace('.', ' ')\n",
        "  no_line_breaks3 = no_line_breaks2.replace(':', ' ')\n",
        "  no_line_breaks4 = no_line_breaks3.replace(';', ' ')\n",
        "  no_line_breaks5 = no_line_breaks4.replace('?', ' ')\n",
        "  no_line_breaks6 = no_line_breaks5.replace('!', ' ')\n",
        "  no_line_breaks7 = no_line_breaks6.replace(\"'\", ' ')\n",
        "  no_line_breaks8 = no_line_breaks7.replace('\"', ' ')\n",
        "  \n",
        "  wordList = no_line_breaks8.split()\n",
        "  \n",
        "  for i in wordList:\n",
        "    if i.lower() == word:\n",
        "      wordCount += 1\n",
        "    \n",
        "    wordFrequency = wordCount/18104\n",
        "    wordFrequency = '{:.2%}'.format(wordFrequency)\n",
        "  return wordFrequency\n",
        "\n",
        "filename1 = \"https://raw.githubusercontent.com/mlepinski/Python-Worksheets/master/Sonnets.txt\"\n",
        "answer1 = word_frequency(filename1, 'memory')\n",
        "answer2 = word_frequency(filename1, 'vial')\n",
        "\n",
        "print('\\\"Memory\\\" appears in the sonnet', answer1, 'of the times.')\n",
        "print('\\\"Vial\\\" appears in the sonnet', answer2, 'of the times.')"
      ],
      "execution_count": null,
      "outputs": []
    }
  ]
}