{
  "nbformat": 4,
  "nbformat_minor": 0,
  "metadata": {
    "colab": {
      "name": "Week 6 Assignment",
      "provenance": [],
      "authorship_tag": "ABX9TyN4YXMiSh/YjN+m7oGLrU6Z",
      "include_colab_link": true
    },
    "kernelspec": {
      "name": "python3",
      "display_name": "Python 3"
    }
  },
  "cells": [
    {
      "cell_type": "markdown",
      "metadata": {
        "id": "view-in-github",
        "colab_type": "text"
      },
      "source": [
        "<a href=\"https://colab.research.google.com/github/sujitsivadanam/Intro-to-Programming-in-Python/blob/master/Week_6_Assignment.ipynb\" target=\"_parent\"><img src=\"https://colab.research.google.com/assets/colab-badge.svg\" alt=\"Open In Colab\"/></a>"
      ]
    },
    {
      "cell_type": "code",
      "metadata": {
        "id": "_m6Ra_rG2lDH"
      },
      "source": [
        "#0\n",
        "HelloList = ['Hello,', 'World!']\n",
        "print(HelloList)"
      ],
      "execution_count": null,
      "outputs": []
    },
    {
      "cell_type": "code",
      "metadata": {
        "id": "m_kZXjYe24nz"
      },
      "source": [
        "#1\n",
        "foodList = []\n",
        "entry = input('Enter a food item: ')\n",
        "\n",
        "while entry != 'Stop' or entry != 'stop':\n",
        "  foodList.append(entry)\n",
        "  entry = input('Enter a food item: ')\n",
        "  if entry == 'Stop' or entry == 'stop':\n",
        "    break\n",
        "\n",
        "foodList"
      ],
      "execution_count": null,
      "outputs": []
    },
    {
      "cell_type": "code",
      "metadata": {
        "id": "L7LOWf_b25cr"
      },
      "source": [
        "#2\n",
        "foodList = []\n",
        "entry = input('Enter a food item: ')\n",
        "\n",
        "while entry != 'Stop' or entry != 'stop':\n",
        "  foodList.append(entry)\n",
        "  entry = input('Enter a food item: ')\n",
        "  if entry == 'Stop' or entry == 'stop':\n",
        "    break\n",
        "\n",
        "itemDelete = input('\\nEnter an item to delete: ')\n",
        "if itemDelete in foodList:\n",
        "  foodList.remove(itemDelete)\n",
        "print(foodList)"
      ],
      "execution_count": null,
      "outputs": []
    },
    {
      "cell_type": "code",
      "metadata": {
        "id": "m3mp9Vgx26KR"
      },
      "source": [
        "#3\n",
        "foodList = []\n",
        "entry = input('Enter a food item: ')\n",
        "\n",
        "while entry != 'Stop' or entry != 'stop':\n",
        "  foodList.append(entry)\n",
        "  entry = input('Enter a food item: ')\n",
        "  if entry == 'Stop' or entry == 'stop':\n",
        "    break\n",
        "\n",
        "for i in range(len(foodList)):\n",
        "  if 'olives' in foodList:\n",
        "    foodList.remove('olives')\n",
        "  elif 'olive' in foodList:\n",
        "    foodList.remove('olive')\n",
        "\n",
        "foodList"
      ],
      "execution_count": null,
      "outputs": []
    }
  ]
}