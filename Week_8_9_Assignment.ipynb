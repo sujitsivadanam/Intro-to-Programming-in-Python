{
  "nbformat": 4,
  "nbformat_minor": 0,
  "metadata": {
    "colab": {
      "name": "Week 8-9 Assignment",
      "provenance": [],
      "collapsed_sections": [],
      "authorship_tag": "ABX9TyMLdGMw55GtqBhxe2ZH1+Q3",
      "include_colab_link": true
    },
    "kernelspec": {
      "name": "python3",
      "display_name": "Python 3"
    }
  },
  "cells": [
    {
      "cell_type": "markdown",
      "metadata": {
        "id": "view-in-github",
        "colab_type": "text"
      },
      "source": [
        "<a href=\"https://colab.research.google.com/github/sujitsivadanam/Intro-to-Programming-in-Python/blob/master/Week_8_9_Assignment.ipynb\" target=\"_parent\"><img src=\"https://colab.research.google.com/assets/colab-badge.svg\" alt=\"Open In Colab\"/></a>"
      ]
    },
    {
      "cell_type": "code",
      "metadata": {
        "id": "NloRQPasiciM"
      },
      "source": [
        "import urllib.request\n",
        "import random\n",
        "\n",
        "def choose_word():\n",
        "  file_name = \"https://raw.githubusercontent.com/mlepinski/Python-Worksheets/master/coolWords.txt\"\n",
        "  my_file = urllib.request.urlopen(file_name)\n",
        "  long_string = my_file.read()\n",
        "  long_string = long_string.decode(\"utf-8\")\n",
        "  global words_list\n",
        "  words_list = long_string.split(\"\\n\")\n",
        "  return words_list\n",
        "\n",
        "choose_word()\n",
        "\n",
        "word = random.choice(words_list)\n",
        "\n",
        "wordList = list(word)\n",
        "blankList = []\n",
        "bodyParts = ['head', 'body', 'left arm', 'right arm', 'left leg', 'right leg']\n",
        "wrongLetters = []\n",
        "countWrong = 0\n",
        "\n",
        "for i in range(len(word)):\n",
        "  blankList.append('*')\n",
        "\n",
        "while blankList != wordList and countWrong != len(bodyParts):\n",
        "  entry = input('Enter a letter: ')\n",
        "  while entry.isalpha() == False:\n",
        "    print('You can only enter letters.')\n",
        "    entry = input('Enter a letter: ')\n",
        "  while len(entry) != 1:\n",
        "    print('Please enter only one letter.')\n",
        "    entry = input('Enter a letter: ')\n",
        "  \n",
        "  entry = entry.lower()\n",
        "\n",
        "  if entry in wrongLetters or entry in blankList:\n",
        "    print('You\\'ve already guessed this letter. Enter a different one.')\n",
        "  elif entry in wordList:\n",
        "    for i in range(len(wordList)):\n",
        "      if wordList[i] == entry:\n",
        "        del blankList[i]\n",
        "        blankList.insert(i, entry)\n",
        "      blank = ''\n",
        "      blank = blank.join(blankList)\n",
        "    print(blank)\n",
        "  elif entry not in wordList:\n",
        "    countWrong += 1\n",
        "    print('BUZZ! Try again.')\n",
        "    print(bodyParts[:countWrong])\n",
        "    wrongLetters.append(entry)\n",
        "\n",
        "if blankList == wordList:\n",
        "  print('\\nGreat job! You guessed my word!')\n",
        "elif blankList != wordList:\n",
        "  print('\\nSorry, but my word was', '\\\"'+word+'\\\".', '\\nBetter luck next time.')"
      ],
      "execution_count": null,
      "outputs": []
    }
  ]
}