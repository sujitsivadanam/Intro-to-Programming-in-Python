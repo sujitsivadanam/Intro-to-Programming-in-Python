{
  "nbformat": 4,
  "nbformat_minor": 0,
  "metadata": {
    "colab": {
      "name": "Week 12 Assignment",
      "provenance": [],
      "authorship_tag": "ABX9TyODL0zr9Wmjm3HHlINFsyoj",
      "include_colab_link": true
    },
    "kernelspec": {
      "name": "python3",
      "display_name": "Python 3"
    }
  },
  "cells": [
    {
      "cell_type": "markdown",
      "metadata": {
        "id": "view-in-github",
        "colab_type": "text"
      },
      "source": [
        "<a href=\"https://colab.research.google.com/github/sujitsivadanam/Intro-to-Programming-in-Python/blob/master/Week_12_Assignment.ipynb\" target=\"_parent\"><img src=\"https://colab.research.google.com/assets/colab-badge.svg\" alt=\"Open In Colab\"/></a>"
      ]
    },
    {
      "cell_type": "code",
      "metadata": {
        "id": "CJS-Y9iwDAeI"
      },
      "source": [
        "#1\n",
        "import pandas\n",
        "\n",
        "file_name = \"https://raw.githubusercontent.com/mlepinski/Python-Worksheets/master/states.csv\"\n",
        "state_data = pandas.read_csv(file_name)\n",
        "\n",
        "popMedian = state_data['Pop'].median()\n",
        "print('The median state population is', int(popMedian), 'people.')"
      ],
      "execution_count": null,
      "outputs": []
    },
    {
      "cell_type": "code",
      "metadata": {
        "id": "QPcif9kW8c89"
      },
      "source": [
        "#2\n",
        "import urllib.request\n",
        "\n",
        "file_name = \"https://raw.githubusercontent.com/mlepinski/Python-Worksheets/master/states.csv\"\n",
        "my_file = urllib.request.urlopen(file_name)\n",
        "\n",
        "long_string = my_file.read()\n",
        "long_string = long_string.decode(\"utf-8\")\n",
        "\n",
        "no_line_breaks = long_string.replace(\"\\n\", \" \")\n",
        "no_commas = no_line_breaks.replace(\",\", \" \")\n",
        "lower_case = no_commas.lower()\n",
        "\n",
        "list_of_words = lower_case.split()\n",
        "wordCount = 0\n",
        "\n",
        "for i in list_of_words:\n",
        "  if i[0] == 'm':\n",
        "    wordCount += 1\n",
        "\n",
        "wordCount = 0.5 * wordCount - 0.5\n",
        "print(int(wordCount), 'states start with the letter \"M\".')"
      ],
      "execution_count": null,
      "outputs": []
    },
    {
      "cell_type": "code",
      "metadata": {
        "id": "BjJBy3GZ8eAU"
      },
      "source": [
        "#3\n",
        "import pandas\n",
        "\n",
        "file_name = \"https://raw.githubusercontent.com/mlepinski/Python-Worksheets/master/states.csv\"\n",
        "state_data = pandas.read_csv(file_name)\n",
        "\n",
        "state_data['Population density'] = state_data['Pop'] / state_data['Area']\n",
        "\n",
        "state_data.head()"
      ],
      "execution_count": null,
      "outputs": []
    },
    {
      "cell_type": "code",
      "metadata": {
        "id": "MQpH1W788e7v"
      },
      "source": [
        "#4\n",
        "import pandas\n",
        "\n",
        "file_name = \"https://raw.githubusercontent.com/mlepinski/Python-Worksheets/master/states.csv\"\n",
        "state_data = pandas.read_csv(file_name)\n",
        "\n",
        "state_data['Population density'] = state_data['Pop'] / state_data['Area']\n",
        "\n",
        "popDensity_max = state_data['Population density'].max()\n",
        "popDensity_min = state_data['Population density'].min()\n",
        "popDensity_median = state_data['Population density'].median()\n",
        "\n",
        "popDensity_max_row = state_data[state_data['Population density'] == popDensity_max]\n",
        "popDensity_min_row = state_data[state_data['Population density'] == popDensity_min]\n",
        "popDensity_median_row = state_data[state_data['Population density'] == popDensity_median]\n",
        "\n",
        "print('The state/region with the highest population density is', popDensity_max_row['Name'].iloc[0]+'.')\n",
        "print('The state/region with the lowest population density is', popDensity_min_row['Name'].iloc[0]+'.')\n",
        "print('The state/region with the median population density is', popDensity_median_row['Name'].iloc[0]+'.')"
      ],
      "execution_count": null,
      "outputs": []
    }
  ]
}