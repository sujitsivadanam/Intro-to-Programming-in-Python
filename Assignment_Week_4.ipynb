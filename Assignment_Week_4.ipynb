{
  "nbformat": 4,
  "nbformat_minor": 0,
  "metadata": {
    "colab": {
      "name": "Assignment Week 4.ipynb",
      "provenance": [],
      "authorship_tag": "ABX9TyPqQt5mSikC3rXofI8NUWPQ",
      "include_colab_link": true
    },
    "kernelspec": {
      "name": "python3",
      "display_name": "Python 3"
    }
  },
  "cells": [
    {
      "cell_type": "markdown",
      "metadata": {
        "id": "view-in-github",
        "colab_type": "text"
      },
      "source": [
        "<a href=\"https://colab.research.google.com/github/sujitsivadanam/Intro-to-Programming-in-Python/blob/master/Assignment_Week_4.ipynb\" target=\"_parent\"><img src=\"https://colab.research.google.com/assets/colab-badge.svg\" alt=\"Open In Colab\"/></a>"
      ]
    },
    {
      "cell_type": "code",
      "metadata": {
        "id": "kXRxAlWt6nWG",
        "colab_type": "code",
        "colab": {}
      },
      "source": [
        "#0\n",
        "def hello():\n",
        "  print('Hello World!')\n",
        "\n",
        "hello()"
      ],
      "execution_count": null,
      "outputs": []
    },
    {
      "cell_type": "code",
      "metadata": {
        "id": "iZKmqjjr7KPP",
        "colab_type": "code",
        "colab": {}
      },
      "source": [
        "#1\n",
        "def message():\n",
        "  for i in range(5):\n",
        "    print('Happy Birthday!')\n",
        "\n",
        "message()"
      ],
      "execution_count": null,
      "outputs": []
    },
    {
      "cell_type": "code",
      "metadata": {
        "id": "k2sDgz7Y7lM1",
        "colab_type": "code",
        "colab": {}
      },
      "source": [
        "#2\n",
        "def message():\n",
        "  num = int(input('Enter how many times you want the message to be printed: '))\n",
        "  for i in range(num):\n",
        "    print('Happy Birthday!')\n",
        "\n",
        "message()"
      ],
      "execution_count": null,
      "outputs": []
    },
    {
      "cell_type": "code",
      "metadata": {
        "id": "41LQxNYD8Cm6",
        "colab_type": "code",
        "colab": {}
      },
      "source": [
        "#3\n",
        "def square(num):\n",
        "  square = num**2\n",
        "  return square\n",
        "\n",
        "square(-5)"
      ],
      "execution_count": null,
      "outputs": []
    },
    {
      "cell_type": "code",
      "metadata": {
        "id": "cmMSdNFK8ceL",
        "colab_type": "code",
        "colab": {}
      },
      "source": [
        "#4\n",
        "def bigger10(num):\n",
        "  if 10 >= num:\n",
        "    return 10\n",
        "  elif 10 < num:\n",
        "    return num\n",
        "  else:\n",
        "    return 'You did NOT enter a number!'\n",
        "\n",
        "bigger10(23)"
      ],
      "execution_count": null,
      "outputs": []
    },
    {
      "cell_type": "code",
      "metadata": {
        "id": "Yf_v4m7e9XoX",
        "colab_type": "code",
        "colab": {}
      },
      "source": [
        "#5\n",
        "def bigger(num1, num2):\n",
        "  if num1 >= num2:\n",
        "    return num1\n",
        "  elif num1 < num2:\n",
        "    return num2\n",
        "\n",
        "bigger(21, 45)"
      ],
      "execution_count": null,
      "outputs": []
    },
    {
      "cell_type": "code",
      "metadata": {
        "id": "aupIqQPv92r-",
        "colab_type": "code",
        "colab": {}
      },
      "source": [
        "#6\n",
        "def bigger(yourAge, friendAge):\n",
        "  if yourAge > friendAge:\n",
        "    print('The older of the two people is', yourAge, 'years old.')\n",
        "  elif yourAge < friendAge:\n",
        "    print('The older of the two people is', friendAge, 'years old.')\n",
        "  elif yourAge == friendAge:\n",
        "    print('Both of you are', yourAge, 'years old.')\n",
        "\n",
        "bigger(13, 13)"
      ],
      "execution_count": null,
      "outputs": []
    }
  ]
}