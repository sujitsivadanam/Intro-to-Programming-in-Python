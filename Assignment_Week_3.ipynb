{
  "nbformat": 4,
  "nbformat_minor": 0,
  "metadata": {
    "colab": {
      "name": "Assignment Week 3",
      "provenance": [],
      "include_colab_link": true
    },
    "kernelspec": {
      "name": "python3",
      "display_name": "Python 3"
    }
  },
  "cells": [
    {
      "cell_type": "markdown",
      "metadata": {
        "id": "view-in-github",
        "colab_type": "text"
      },
      "source": [
        "<a href=\"https://colab.research.google.com/github/sujitsivadanam/Intro-to-Programming-in-Python/blob/master/Assignment_Week_3.ipynb\" target=\"_parent\"><img src=\"https://colab.research.google.com/assets/colab-badge.svg\" alt=\"Open In Colab\"/></a>"
      ]
    },
    {
      "cell_type": "markdown",
      "metadata": {
        "id": "5Hr8F8azZKy_",
        "colab_type": "text"
      },
      "source": [
        "# Assignment - Week 3 - Flow Control\n",
        "\n",
        "**PART 1 : GETTING STARTED WITH GITHUB**\n",
        "\n",
        "\n",
        "\n",
        "---\n",
        "\n",
        "\n",
        "\n",
        "In this assignment you will use what you learned from the reading and the worksheet to write your first Python programs. \n",
        "\n",
        "The first thing that I need you to do is to make a GitHub account so that you can turn in this assignment. GitHub is an online tool that is used by many computer scientists to share code and data. \n",
        "\n",
        "\n",
        "*   Go to https://www.github.com\n",
        "*   Click on the \"Sign Up\" button in the upper-right corner\n",
        "*   Fill out the form to create an account\n",
        "*   Go to https://github.com/new\n",
        "*   Create a new repository for this class\n",
        "*   Please make this repository public so that I can see your code\n",
        "*   Additionally, please click the check box to add a README file to your repository\n",
        "\n",
        "Once you have a repository, you can save files to your repository from Google Colab. To do this, go to the \"File\" menu in the corner and select \"Save a Copy in Github\". \n",
        "\n",
        "UNFORTUNATELY: Because you grabbed these instructions from My GitHub account, it wants to save back to my GitHub account (which won't work). Therefore one option is to create a new Notebook (File --> New Notebook) which you can then save to your GitHub account. \n",
        "\n",
        "(The other option is to first save a copy into Google Drive to make a new notebook that has these instructions and then since that is a new Notebook, you can save it to your GitHub account)\n",
        "\n",
        "This will require you to provide you to provide your GitHub login information to authorize Google Colab to write files into your GitHub repository. \n",
        "\n",
        "You can also put files into your GitHub repostiory without using Google Colab. You might be able to figure this out by exploring the GitHub website, but this is something that we will talk about in a future week. \n",
        "\n",
        "Finally, once you have finished the assignment and put your code in the GitHub repository, You need to go in Canvas (to the week 3 assignment page) and tell me your Github username and the name of your repository. \n",
        "\n",
        "If you have any questions about GitHub, feel free to email myself or Ellie.\n"
      ]
    },
    {
      "cell_type": "markdown",
      "metadata": {
        "id": "9e-KsmDyfOHN",
        "colab_type": "text"
      },
      "source": [
        "**PART 2 : PROGRAMMING PROBLEMS**\n",
        "\n",
        "\n",
        "\n",
        "---\n",
        "\n",
        "**REMINDER: You are encouraged to talk with your group members about the assignment, but everyone must type their own code**\n",
        "\n",
        "\n",
        "\n",
        "---\n",
        "\n",
        "Python doesn't know anything about Even numbers. I want to use Even numbers in this assignment, so I am going to write some code that allows you to ask Python the question \"Is this number Even\". \n",
        "\n",
        "When you click the button to run the next chunk of code, Python will read my definition of is_it_even and then anything that you write afterwards (down below) can use the question is_it_even and Python will understand it.\n",
        "\n",
        "Next week you will learn how to define new questions like is_it_even. \n",
        "\n"
      ]
    },
    {
      "cell_type": "code",
      "metadata": {
        "id": "lsIagqsAfwVV",
        "colab_type": "code",
        "colab": {}
      },
      "source": [
        "def is_it_even(number):\n",
        "  if(number % 2 == 0):\n",
        "    return True\n",
        "  else:\n",
        "    return False\n",
        "\n",
        "#The code above defines the question is_it_even\n",
        "#Next I will show you an example of how to you is_it_even\n",
        "\n",
        "#When I start a line with a # symbol, Python ignores the entire line\n",
        "#I can use this feature to write comments to help you understand my code\n",
        "\n",
        "if is_it_even(5):\n",
        "  print(\"5 is an even number\")\n",
        "else:\n",
        "  print(\"5 is NOT an even number\")"
      ],
      "execution_count": null,
      "outputs": []
    },
    {
      "cell_type": "markdown",
      "metadata": {
        "id": "Hb6MWOLEfxmT",
        "colab_type": "text"
      },
      "source": [
        "0) Write a loop that prints \"Hello World\" five times\n",
        "\n",
        "1) Write code that asks the user to enter two numbers, then print out the smaller of the two numbers. (You will need an if statement to figure out which is the smallest)\n",
        "\n",
        "2) Write code that asks the user to enter three numbers, then print out the second largest of the three numbers. (This will require some cleverness with if statements!)\n",
        "\n",
        "3) Write a for loop that looks at the numbers [3, 2, 8, 9, 17, 24] and counts how many of them are even. (You will need a variable to keep count of how many even numbers you have seen. You should increase the variable by one each time the user enters an even number)\n",
        "\n",
        "3) Write a loop that asks the user to enter five numbers and prints out how many of the numbers are even. \n",
        "\n",
        "4) Write a loop that allows the user to keep entering as many numbers as they want to and then when they are done, print out how many of the numbers were even. One way to do this is to tell the user to enter -1 to signal that they are done, and then end when you see a -1. \n",
        "\n",
        "5) Write a number guessing game. You should pick a number (assign it to a varaible in your code) and then repeatedly ask the user to guess the number. Tell the user is their guess is too high or too low, and end when the user correctly guesses your number.\n",
        "\n",
        "\n",
        "\n",
        "---\n",
        "\n",
        "---\n",
        "\n",
        "**If you have time this week, you should improve your guessing game.**\n",
        "\n",
        "6) Modify your guessing game so that it counts the number of tries that it takes the user to correclty guess the number. \n",
        "\n",
        "7) It is kind of stupid to have to pick a number and write it in your code. In particular, this means that if you want to play the game more than once, you need to actually go and change the code ... Also, if the user sees your code, they will know exaclty what to guess.\n",
        "\n",
        "A better way is to have Python pick a random number. By default, Python doesn't know how to pick a random number. Fortunately, someone already put together an explanation of how to pick random numbers, we can add this new capability to Python by \"importing\" the instructions that someone else wrote.\n",
        "\n",
        "I have code down below that shows you how to import the random number instructions and then how to ask Python to pick a random number.\n",
        "\n",
        "---\n",
        "\n",
        "--- \n",
        "\n",
        "**I don't expect you to get this next one, but it is a nice problem if you are looking to challenge yourself.**\n",
        "\n",
        "8) You could modify your guessing game to say \"getting closer\" or \"getting further away\" (i.e., \"warmer\" or \"colder\") instead of \"Too High\" or \"Too Low\"\n",
        "\n",
        "In order to do this you would need to remember how far away the last guess was (in a new variable). You can then compare how far away the new guess is with how far away the old guess was ... This will allow you to tell the user whether they are getting closer to the correct number, or if they are getting further away.\n"
      ]
    },
    {
      "cell_type": "code",
      "metadata": {
        "id": "QnMxv9iuFyMG",
        "colab_type": "code",
        "colab": {}
      },
      "source": [
        "#These instructions pick a random number\n",
        "#The random.randint command does the hard work\n",
        "#The two numbers in the parentheses are the lower bound and upper bound\n",
        "#So in this example, Python will pick a number between 1 and 100\n",
        "\n",
        "#Run this multiple times (using the Arrow Button on the left) and you will get different numbers\n",
        "\n",
        "import random\n",
        "X = random.randint(1,100)\n",
        "print(X)"
      ],
      "execution_count": null,
      "outputs": []
    },
    {
      "cell_type": "code",
      "metadata": {
        "id": "8SDf2p2gZose",
        "colab_type": "code",
        "colab": {}
      },
      "source": [
        "#0\n",
        "for i in range(5):\n",
        "  print(\"Hello World!\")"
      ],
      "execution_count": null,
      "outputs": []
    },
    {
      "cell_type": "code",
      "metadata": {
        "id": "aHvro65PGp0J",
        "colab_type": "code",
        "colab": {}
      },
      "source": [
        "#1\n",
        "num1 = int(input('Enter your first number: '))\n",
        "num2 = int(input('Enter your second number: '))\n",
        "\n",
        "if num1 < num2:\n",
        "  print('Your smaller number is: ', num1)\n",
        "elif num2 < num1:\n",
        "  print('Your smaller number is: ', num2)\n",
        "else:\n",
        "  print('Both your numbers are equal.')"
      ],
      "execution_count": null,
      "outputs": []
    },
    {
      "cell_type": "code",
      "metadata": {
        "id": "XCKq7EbyZgNj",
        "colab_type": "code",
        "colab": {}
      },
      "source": [
        "#2\n",
        "num1 = int(input('Enter your first number: '))\n",
        "num2 = int(input('Enter your second number: '))\n",
        "num3 = int(input('Enter your third number: '))\n",
        "print()\n",
        "\n",
        "if num2 <= num1 <= num3 or num3 <= num1 <= num2:\n",
        "  print('Your middle number is: ', num1)\n",
        "elif num1 <= num2 <= num3 or num3 <= num2 <= num1:\n",
        "  print('Your middle number is: ', num2)\n",
        "elif num1 <= num3 <= num2 or num2 <= num3 <= num1:\n",
        "  print('Your middle number is:', num3)"
      ],
      "execution_count": null,
      "outputs": []
    },
    {
      "cell_type": "code",
      "metadata": {
        "id": "8YdOypEWcdfR",
        "colab_type": "code",
        "colab": {}
      },
      "source": [
        "#3\n",
        "evenCount = 0\n",
        "\n",
        "for i in range(5):\n",
        "  number = int(input('Enter your number: '))\n",
        "  if number % 2 == 0:\n",
        "    evenCount += 1\n",
        "\n",
        "print()\n",
        "\n",
        "if evenCount == 1:\n",
        "  print('You have entered 1 even number.')\n",
        "else:\n",
        "  print('You have entered', evenCount, 'even numbers.')"
      ],
      "execution_count": null,
      "outputs": []
    },
    {
      "cell_type": "code",
      "metadata": {
        "id": "KV3mbB7wf7Ak",
        "colab_type": "code",
        "colab": {}
      },
      "source": [
        "#4\n",
        "evenCount = 0\n",
        "\n",
        "for i in range(1):\n",
        "  number = int(input('Enter your number: '))\n",
        "  if number % 2 == 0:\n",
        "    evenCount += 1\n",
        "  entry = input()\n",
        "  if entry != '-1':\n",
        "    continue\n",
        "  if entry == '-1':\n",
        "    break\n",
        "\n",
        "print()\n",
        "\n",
        "if evenCount == 1:\n",
        "  print('You have entered 1 even number.')\n",
        "else:\n",
        "  print('You have entered', evenCount, 'even numbers.')"
      ],
      "execution_count": null,
      "outputs": []
    },
    {
      "cell_type": "code",
      "metadata": {
        "id": "OS78IP4clENj",
        "colab_type": "code",
        "colab": {}
      },
      "source": [
        "#5\n",
        "import random\n",
        "trial = 0\n",
        "randNo = random.randint(1, 100)\n",
        "\n",
        "guess = int(input('Guess a number between 1 and 100: '))\n",
        "while guess != randNo or trial != 10:\n",
        "  if guess < randNo:\n",
        "    print('Too low!')\n",
        "    trial += 1\n",
        "    guess = int(input('Guess a number between 1 and 100: '))\n",
        "  elif guess > randNo:\n",
        "    print('Too high!')\n",
        "    trial += 1\n",
        "    guess = int(input('Guess a number between 1 and 100: '))\n",
        "  elif guess == randNo:\n",
        "    trial +=1\n",
        "    break\n",
        "\n",
        "print()\n",
        "if trial == 1:\n",
        "  print('Good job! You\\'ve guessed my number in', trial, 'trial!')\n",
        "else:\n",
        "  print('Good job! You\\'ve guessed my number in', trial, 'trials!')"
      ],
      "execution_count": null,
      "outputs": []
    }
  ]
}