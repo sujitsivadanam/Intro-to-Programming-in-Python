{
  "nbformat": 4,
  "nbformat_minor": 0,
  "metadata": {
    "colab": {
      "name": "Concerning Covid-19 Project",
      "provenance": [],
      "authorship_tag": "ABX9TyP/A7zseeyVCS+2i7lVgzqo",
      "include_colab_link": true
    },
    "kernelspec": {
      "name": "python3",
      "display_name": "Python 3"
    }
  },
  "cells": [
    {
      "cell_type": "markdown",
      "metadata": {
        "id": "view-in-github",
        "colab_type": "text"
      },
      "source": [
        "<a href=\"https://colab.research.google.com/github/sujitsivadanam/Intro-to-Programming-in-Python/blob/master/Concerning_Covid_19_Project.ipynb\" target=\"_parent\"><img src=\"https://colab.research.google.com/assets/colab-badge.svg\" alt=\"Open In Colab\"/></a>"
      ]
    },
    {
      "cell_type": "code",
      "metadata": {
        "id": "Hf8gQbU0A6BP"
      },
      "source": [
        "#Example code\n",
        "import pandas\n",
        "import matplotlib.pyplot as plt\n",
        "\n",
        "file_name = \"https://raw.githubusercontent.com/mlepinski/Python-Worksheets/master/states.csv\"\n",
        "state_data = pandas.read_csv(file_name)\n",
        "\n",
        "state_data.plot(x = \"Area\", y = \"Pop\", kind = \"scatter\")\n",
        "plt.show()"
      ],
      "execution_count": null,
      "outputs": []
    },
    {
      "cell_type": "code",
      "metadata": {
        "id": "rXWcE2FwUgHb"
      },
      "source": [
        "##Do Americans approve Trump's handling of COVID-19?##\n",
        "import pandas\n",
        "import matplotlib.pyplot as plt\n",
        "import seaborn as sns\n",
        "\n",
        "file_name = 'https://raw.githubusercontent.com/mlepinski/Python-Worksheets/master/Matplotlib/Data/covid_approval_polls.csv'\n",
        "approval_data = pandas.read_csv(file_name)\n",
        "approval_data.head()\n",
        "\n",
        "approveList = list(approval_data['approve'])\n",
        "disapproveList = list(approval_data['disapprove'])\n",
        "\n",
        "#Histogram for approve\n",
        "histogram = plt.hist(approveList, bins=30)\n",
        "plt.xlabel('Number of people that approve')\n",
        "plt.show()\n",
        "\n",
        "#Histogram for disapprove\n",
        "histogram = plt.hist(disapproveList, bins=30)\n",
        "plt.xlabel('Number of people that disapprove')\n",
        "plt.show()"
      ],
      "execution_count": null,
      "outputs": []
    },
    {
      "cell_type": "code",
      "metadata": {
        "id": "f_BzRJBSwbTt"
      },
      "source": [
        "##Covid approval polls (adjusted)##\n",
        "import pandas\n",
        "import matplotlib.pyplot as plt\n",
        "import numpy as np\n",
        "\n",
        "file_name = 'https://raw.githubusercontent.com/mlepinski/Python-Worksheets/master/Matplotlib/Data/covid_approval_polls_adjusted.csv'\n",
        "approval_data_adjusted = pandas.read_csv(file_name)\n",
        "approval_data_adjusted.head()\n",
        "\n",
        "approveList_adjusted = list(approval_data_adjusted['approve_adjusted'])\n",
        "disapproveList_adjusted = list(approval_data_adjusted['disapprove_adjusted'])\n",
        "\n",
        "#Histogram for approve_adjusted\n",
        "histogram = plt.hist(approveList_adjusted, bins=30)\n",
        "plt.xlabel('Number of people that approve (adjusted)')\n",
        "plt.show()\n",
        "\n",
        "#Histogram for disapprove_adjusted\n",
        "histogram = plt.hist(disapproveList_adjusted, bins=30)\n",
        "plt.xlabel('Number of people that disapprove (adjusted)')\n",
        "plt.show()"
      ],
      "execution_count": null,
      "outputs": []
    },
    {
      "cell_type": "code",
      "metadata": {
        "id": "R4u6W6zdwex2"
      },
      "source": [
        "##Covid approval toplines##\n",
        "import pandas\n",
        "import matplotlib.pyplot as plt\n",
        "\n",
        "file_name = 'https://raw.githubusercontent.com/mlepinski/Python-Worksheets/master/Matplotlib/Data/covid_approval_toplines.csv'\n",
        "approval_toplines_data = pandas.read_csv(file_name)\n",
        "\n",
        "approval_toplines_data['estimate_difference'] = approval_toplines_data['approve_estimate'] - approval_toplines_data['disapprove_estimate']\n",
        "approval_toplines_data.head()\n",
        "\n",
        "#X-value data\n",
        "modeldateList = list(approval_toplines_data['modeldate'])\n",
        "modeldateList.reverse()\n",
        "\n",
        "#Y-value data\n",
        "estimateDifference = list(approval_toplines_data['estimate_difference'])\n",
        "estimateDifference.reverse()\n",
        "\n",
        "#Bar graph for difference in approval opinion over time\n",
        "fig = plt.figure()\n",
        "ax = fig.add_axes([1, 1, 2, 2])\n",
        "ax.bar(modeldateList, estimateDifference)\n",
        "plt.xlabel('Model Date')\n",
        "plt.ylabel('Difference in opinion (approve - disapprove)')\n",
        "plt.show()"
      ],
      "execution_count": null,
      "outputs": []
    },
    {
      "cell_type": "code",
      "metadata": {
        "id": "vl5fZViiwml6"
      },
      "source": [
        "##Covid concern polls##\n",
        "import pandas\n",
        "import matplotlib.pyplot as plt\n",
        "\n",
        "file_name = 'https://raw.githubusercontent.com/mlepinski/Python-Worksheets/master/Matplotlib/Data/covid_concern_polls.csv'\n",
        "concern_data = pandas.read_csv(file_name)\n",
        "concern_data.head()\n",
        "\n",
        "#X-value data\n",
        "startDate = list(concern_data['start_date'])\n",
        "\n",
        "#Y-value data\n",
        "veryList = list(concern_data['very'])\n",
        "somewhatList = list(concern_data['somewhat'])\n",
        "not_veryList = list(concern_data['not_very'])\n",
        "not_at_allList = list(concern_data['not_at_all'])\n",
        "\n",
        "#Multiple line graph\n",
        "fig, ax = plt.subplots()\n",
        "concern_data['very'].plot(x = 'Very', kind ='line')\n",
        "concern_data['somewhat'].plot(x = 'Somewhat', kind = 'line')\n",
        "concern_data['not_very'].plot(x = 'Not very', kind = 'line')\n",
        "concern_data['not_at_all'].plot(x = 'Not at all', kind = 'line')\n",
        "ax.set_ylabel('Number of people who feel this way')\n",
        "ax.set_title('How concerned are people about impact of COVID-19?')\n",
        "ax.legend()"
      ],
      "execution_count": null,
      "outputs": []
    },
    {
      "cell_type": "code",
      "metadata": {
        "id": "dUmgUdLHwpZb"
      },
      "source": [
        "##Covid concern polls (adjusted)##\n",
        "import pandas\n",
        "import matplotlib.pyplot as plt\n",
        "\n",
        "file_name = 'https://raw.githubusercontent.com/mlepinski/Python-Worksheets/master/Matplotlib/Data/covid_concern_polls_adjusted.csv'\n",
        "concern_data_adjusted = pandas.read_csv(file_name)\n",
        "concern_data_adjusted.head()\n",
        "\n",
        "#X-value data\n",
        "startDate = list(concern_data_adjusted['startdate'])\n",
        "\n",
        "#Y-value data\n",
        "very_adjustedList = list(concern_data_adjusted['very_adjusted'])\n",
        "somewhat_adjustedList = list(concern_data_adjusted['somewhat_adjusted'])\n",
        "not_very_adjustedList = list(concern_data_adjusted['not_very_adjusted'])\n",
        "not_at_all_adjustedList =list(concern_data_adjusted['not_at_all_adjusted'])\n",
        "\n",
        "#Multiple line graph\n",
        "fig, ax = plt.subplots()\n",
        "concern_data_adjusted['very_adjusted'].plot(x = 'Very', kind = 'line')\n",
        "concern_data_adjusted['somewhat_adjusted'].plot(x = 'Somewhat', kind = 'line')\n",
        "concern_data_adjusted['not_very_adjusted'].plot(x = 'Not very', kind = 'line')\n",
        "concern_data_adjusted['not_at_all_adjusted'].plot(x = 'Not at all', kind = 'line')\n",
        "ax.set_ylabel('Number of people who feel this way')\n",
        "ax.set_title('How concerned are people about impact of COVID-19? (after adjustment)')\n",
        "ax.legend()"
      ],
      "execution_count": null,
      "outputs": []
    },
    {
      "cell_type": "code",
      "metadata": {
        "id": "hiGKrx3CwujU"
      },
      "source": [
        "##Covid concern toplines##\n",
        "import pandas\n",
        "import matplotlib.pyplot as plt\n",
        "\n",
        "file_name = 'https://raw.githubusercontent.com/mlepinski/Python-Worksheets/master/Matplotlib/Data/covid_concern_toplines.csv'\n",
        "concern_toplines_data = pandas.read_csv(file_name)\n",
        "concern_toplines_data.head()\n",
        "\n",
        "#X-value data\n",
        "modeldateList = list(concern_toplines_data['modeldate'])\n",
        "modeldateList.reverse()\n",
        "\n",
        "#Y-value data\n",
        "very_estimateList = list(concern_toplines_data['very_estimate'])\n",
        "somewhat_estimateList = list(concern_toplines_data['somewhat_estimate'])\n",
        "not_very_estimateList = list(concern_toplines_data['not_very_estimate'])\n",
        "not_at_all_estimateList = list(concern_toplines_data['not_at_all_estimate'])\n",
        "\n",
        "#Multiple bar graph\n",
        "fig, ax = plt.subplots()\n",
        "concern_toplines_data['very_estimate'].plot(x = 'Very', kind = 'line')\n",
        "concern_toplines_data['somewhat_estimate'].plot(x = 'Somewhat', kind = 'line')\n",
        "concern_toplines_data['not_very_estimate'].plot(x = 'Not very', kind = 'line')\n",
        "concern_toplines_data['not_at_all_estimate'].plot(x = 'Not at all', kind = 'line')\n",
        "ax.set_ylabel('How concerned are people about COVID-19?')\n",
        "ax.legend()\n",
        "plt.show()"
      ],
      "execution_count": null,
      "outputs": []
    }
  ]
}